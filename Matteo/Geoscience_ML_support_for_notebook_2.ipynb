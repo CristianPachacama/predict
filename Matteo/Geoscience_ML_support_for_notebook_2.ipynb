{
 "cells": [
  {
   "cell_type": "markdown",
   "metadata": {},
   "source": [
    "### Machine learning in geoscience with scikit-learn - notebook 2 bis\n",
    "Matteo Niccoli, MyCarta - Calgary, Alberta, Canada\n",
    "\n",
    "mycarta.wordpress.com\n",
    "\n",
    "matteo@mycarta.ca"
   ]
  },
  {
   "cell_type": "markdown",
   "metadata": {},
   "source": [
    "##### This short notebook is to prepare an extra independent variable (feature) to be used in notebook 2."
   ]
  },
  {
   "cell_type": "code",
   "execution_count": 2,
   "metadata": {
    "collapsed": false
   },
   "outputs": [],
   "source": [
    "import pandas as pd\n",
    "import matplotlib as mpl\n",
    "import matplotlib.pyplot as plt\n",
    "import numpy as np\n",
    "import scipy as sp\n",
    "import seaborn as sns\n",
    "import math\n",
    "\n",
    "%matplotlib inline"
   ]
  },
  {
   "cell_type": "code",
   "execution_count": 3,
   "metadata": {
    "collapsed": true
   },
   "outputs": [],
   "source": [
    "data = pd.read_csv('Table2_Hunt_2013_nonames.csv')"
   ]
  },
  {
   "cell_type": "code",
   "execution_count": 4,
   "metadata": {
    "collapsed": false
   },
   "outputs": [
    {
     "data": {
      "text/html": [
       "<div>\n",
       "<table border=\"1\" class=\"dataframe\">\n",
       "  <thead>\n",
       "    <tr style=\"text-align: right;\">\n",
       "      <th></th>\n",
       "      <th>X1</th>\n",
       "      <th>X2</th>\n",
       "      <th>X3</th>\n",
       "      <th>X4</th>\n",
       "      <th>X5</th>\n",
       "      <th>X6</th>\n",
       "      <th>Y</th>\n",
       "    </tr>\n",
       "  </thead>\n",
       "  <tbody>\n",
       "    <tr>\n",
       "      <th>count</th>\n",
       "      <td>21.000000</td>\n",
       "      <td>21.000000</td>\n",
       "      <td>21.000000</td>\n",
       "      <td>21.000000</td>\n",
       "      <td>21.000000</td>\n",
       "      <td>21.000000</td>\n",
       "      <td>21.000000</td>\n",
       "    </tr>\n",
       "    <tr>\n",
       "      <th>mean</th>\n",
       "      <td>9.823810</td>\n",
       "      <td>68.880952</td>\n",
       "      <td>1.885714</td>\n",
       "      <td>15.285714</td>\n",
       "      <td>10.190476</td>\n",
       "      <td>292.714286</td>\n",
       "      <td>33.428571</td>\n",
       "    </tr>\n",
       "    <tr>\n",
       "      <th>std</th>\n",
       "      <td>5.948521</td>\n",
       "      <td>45.167894</td>\n",
       "      <td>0.708721</td>\n",
       "      <td>2.759400</td>\n",
       "      <td>6.439092</td>\n",
       "      <td>59.429069</td>\n",
       "      <td>15.141909</td>\n",
       "    </tr>\n",
       "    <tr>\n",
       "      <th>min</th>\n",
       "      <td>0.100000</td>\n",
       "      <td>0.500000</td>\n",
       "      <td>1.000000</td>\n",
       "      <td>10.000000</td>\n",
       "      <td>1.000000</td>\n",
       "      <td>210.000000</td>\n",
       "      <td>7.710000</td>\n",
       "    </tr>\n",
       "    <tr>\n",
       "      <th>25%</th>\n",
       "      <td>4.900000</td>\n",
       "      <td>24.600000</td>\n",
       "      <td>1.100000</td>\n",
       "      <td>14.000000</td>\n",
       "      <td>6.000000</td>\n",
       "      <td>245.000000</td>\n",
       "      <td>22.670000</td>\n",
       "    </tr>\n",
       "    <tr>\n",
       "      <th>50%</th>\n",
       "      <td>10.000000</td>\n",
       "      <td>72.900000</td>\n",
       "      <td>2.000000</td>\n",
       "      <td>16.000000</td>\n",
       "      <td>10.000000</td>\n",
       "      <td>273.000000</td>\n",
       "      <td>36.420000</td>\n",
       "    </tr>\n",
       "    <tr>\n",
       "      <th>75%</th>\n",
       "      <td>15.100000</td>\n",
       "      <td>100.000000</td>\n",
       "      <td>2.200000</td>\n",
       "      <td>17.000000</td>\n",
       "      <td>13.000000</td>\n",
       "      <td>340.000000</td>\n",
       "      <td>44.200000</td>\n",
       "    </tr>\n",
       "    <tr>\n",
       "      <th>max</th>\n",
       "      <td>19.100000</td>\n",
       "      <td>160.000000</td>\n",
       "      <td>2.900000</td>\n",
       "      <td>20.000000</td>\n",
       "      <td>21.000000</td>\n",
       "      <td>395.000000</td>\n",
       "      <td>59.200000</td>\n",
       "    </tr>\n",
       "  </tbody>\n",
       "</table>\n",
       "</div>"
      ],
      "text/plain": [
       "              X1          X2         X3         X4         X5          X6  \\\n",
       "count  21.000000   21.000000  21.000000  21.000000  21.000000   21.000000   \n",
       "mean    9.823810   68.880952   1.885714  15.285714  10.190476  292.714286   \n",
       "std     5.948521   45.167894   0.708721   2.759400   6.439092   59.429069   \n",
       "min     0.100000    0.500000   1.000000  10.000000   1.000000  210.000000   \n",
       "25%     4.900000   24.600000   1.100000  14.000000   6.000000  245.000000   \n",
       "50%    10.000000   72.900000   2.000000  16.000000  10.000000  273.000000   \n",
       "75%    15.100000  100.000000   2.200000  17.000000  13.000000  340.000000   \n",
       "max    19.100000  160.000000   2.900000  20.000000  21.000000  395.000000   \n",
       "\n",
       "               Y  \n",
       "count  21.000000  \n",
       "mean   33.428571  \n",
       "std    15.141909  \n",
       "min     7.710000  \n",
       "25%    22.670000  \n",
       "50%    36.420000  \n",
       "75%    44.200000  \n",
       "max    59.200000  "
      ]
     },
     "execution_count": 4,
     "metadata": {},
     "output_type": "execute_result"
    }
   ],
   "source": [
    "data.describe()"
   ]
  },
  {
   "cell_type": "markdown",
   "metadata": {},
   "source": [
    "We will create a fake variable by applying a simple function to X1. This is to simulate the presence of 2 features that correlate highly between one another."
   ]
  },
  {
   "cell_type": "code",
   "execution_count": 5,
   "metadata": {
    "collapsed": false
   },
   "outputs": [
    {
     "data": {
      "image/png": "[encoded data removed]",
      "text/plain": [
       "<matplotlib.figure.Figure at 0x117322a90>"
      ]
     },
     "metadata": {},
     "output_type": "display_data"
    }
   ],
   "source": [
    "g = sns.JointGrid(data['X1'], data['Y'])\n",
    "g = g.plot_joint(plt.scatter, color=\"b\", edgecolor=\"white\")\n",
    "g.ax_marg_x.set_axis_off()\n",
    "g.ax_marg_y.set_axis_off()\n",
    "g = g.annotate(sp.stats.pearsonr)"
   ]
  },
  {
   "cell_type": "markdown",
   "metadata": {},
   "source": [
    "We can apply a simple logarithmic function."
   ]
  },
  {
   "cell_type": "code",
   "execution_count": 6,
   "metadata": {
    "collapsed": true
   },
   "outputs": [],
   "source": [
    "X07 = pd.Series(np.log(data['X1'])+data['X1']+5)"
   ]
  },
  {
   "cell_type": "code",
   "execution_count": 7,
   "metadata": {
    "collapsed": false
   },
   "outputs": [
    {
     "data": {
      "image/png": "[encoded data removed]",
      "text/plain": [
       "<matplotlib.figure.Figure at 0x117429790>"
      ]
     },
     "metadata": {},
     "output_type": "display_data"
    }
   ],
   "source": [
    "g = sns.JointGrid(X07, data['Y'])\n",
    "g = g.plot_joint(plt.scatter, color=\"b\", edgecolor=\"white\")\n",
    "g.ax_marg_x.set_axis_off()\n",
    "g.ax_marg_y.set_axis_off()\n",
    "g = g.annotate(sp.stats.pearsonr)"
   ]
  },
  {
   "cell_type": "code",
   "execution_count": 8,
   "metadata": {
    "collapsed": false
   },
   "outputs": [
    {
     "data": {
      "image/png": "[encoded data removed]",
      "text/plain": [
       "<matplotlib.figure.Figure at 0x11769e690>"
      ]
     },
     "metadata": {},
     "output_type": "display_data"
    }
   ],
   "source": [
    "g = sns.JointGrid(data['X1'], X07)\n",
    "g = g.plot_joint(plt.scatter, color=\"b\", edgecolor=\"white\")\n",
    "g.ax_marg_x.set_axis_off()\n",
    "g.ax_marg_y.set_axis_off()\n",
    "g = g.annotate(sp.stats.pearsonr)"
   ]
  },
  {
   "cell_type": "markdown",
   "metadata": {},
   "source": [
    "Let's add a bit of random noise to it."
   ]
  },
  {
   "cell_type": "code",
   "execution_count": 9,
   "metadata": {
    "collapsed": false
   },
   "outputs": [],
   "source": [
    "np.random.seed(42)\n",
    "noise = np.random.normal(0,1.5,len(X07))\n",
    "X7 = pd.Series(X07 + noise)"
   ]
  },
  {
   "cell_type": "code",
   "execution_count": 10,
   "metadata": {
    "collapsed": false
   },
   "outputs": [
    {
     "data": {
      "image/png": "[encoded data removed]",
      "text/plain": [
       "<matplotlib.figure.Figure at 0x117ce7250>"
      ]
     },
     "metadata": {},
     "output_type": "display_data"
    }
   ],
   "source": [
    "g = sns.JointGrid(data['X1'], X7)\n",
    "g = g.plot_joint(plt.scatter, color=\"b\", edgecolor=\"white\")\n",
    "g.ax_marg_x.set_axis_off()\n",
    "g.ax_marg_y.set_axis_off()\n",
    "g = g.annotate(sp.stats.pearsonr)"
   ]
  },
  {
   "cell_type": "code",
   "execution_count": 11,
   "metadata": {
    "collapsed": true
   },
   "outputs": [],
   "source": [
    "data.insert(loc=6, column='X7', value=X7) "
   ]
  },
  {
   "cell_type": "code",
   "execution_count": 12,
   "metadata": {
    "collapsed": false
   },
   "outputs": [
    {
     "data": {
      "text/html": [
       "<div>\n",
       "<table border=\"1\" class=\"dataframe\">\n",
       "  <thead>\n",
       "    <tr style=\"text-align: right;\">\n",
       "      <th></th>\n",
       "      <th>X1</th>\n",
       "      <th>X2</th>\n",
       "      <th>X3</th>\n",
       "      <th>X4</th>\n",
       "      <th>X5</th>\n",
       "      <th>X6</th>\n",
       "      <th>X7</th>\n",
       "      <th>Y</th>\n",
       "    </tr>\n",
       "  </thead>\n",
       "  <tbody>\n",
       "    <tr>\n",
       "      <th>count</th>\n",
       "      <td>21.000000</td>\n",
       "      <td>21.000000</td>\n",
       "      <td>21.000000</td>\n",
       "      <td>21.000000</td>\n",
       "      <td>21.000000</td>\n",
       "      <td>21.000000</td>\n",
       "      <td>21.000000</td>\n",
       "      <td>21.000000</td>\n",
       "    </tr>\n",
       "    <tr>\n",
       "      <th>mean</th>\n",
       "      <td>9.823810</td>\n",
       "      <td>68.880952</td>\n",
       "      <td>1.885714</td>\n",
       "      <td>15.285714</td>\n",
       "      <td>10.190476</td>\n",
       "      <td>292.714286</td>\n",
       "      <td>16.579006</td>\n",
       "      <td>33.428571</td>\n",
       "    </tr>\n",
       "    <tr>\n",
       "      <th>std</th>\n",
       "      <td>5.948521</td>\n",
       "      <td>45.167894</td>\n",
       "      <td>0.708721</td>\n",
       "      <td>2.759400</td>\n",
       "      <td>6.439092</td>\n",
       "      <td>59.429069</td>\n",
       "      <td>6.543232</td>\n",
       "      <td>15.141909</td>\n",
       "    </tr>\n",
       "    <tr>\n",
       "      <th>min</th>\n",
       "      <td>0.100000</td>\n",
       "      <td>0.500000</td>\n",
       "      <td>1.000000</td>\n",
       "      <td>10.000000</td>\n",
       "      <td>1.000000</td>\n",
       "      <td>210.000000</td>\n",
       "      <td>3.542486</td>\n",
       "      <td>7.710000</td>\n",
       "    </tr>\n",
       "    <tr>\n",
       "      <th>25%</th>\n",
       "      <td>4.900000</td>\n",
       "      <td>24.600000</td>\n",
       "      <td>1.100000</td>\n",
       "      <td>14.000000</td>\n",
       "      <td>6.000000</td>\n",
       "      <td>245.000000</td>\n",
       "      <td>11.515947</td>\n",
       "      <td>22.670000</td>\n",
       "    </tr>\n",
       "    <tr>\n",
       "      <th>50%</th>\n",
       "      <td>10.000000</td>\n",
       "      <td>72.900000</td>\n",
       "      <td>2.000000</td>\n",
       "      <td>16.000000</td>\n",
       "      <td>10.000000</td>\n",
       "      <td>273.000000</td>\n",
       "      <td>16.899891</td>\n",
       "      <td>36.420000</td>\n",
       "    </tr>\n",
       "    <tr>\n",
       "      <th>75%</th>\n",
       "      <td>15.100000</td>\n",
       "      <td>100.000000</td>\n",
       "      <td>2.200000</td>\n",
       "      <td>17.000000</td>\n",
       "      <td>13.000000</td>\n",
       "      <td>340.000000</td>\n",
       "      <td>21.971263</td>\n",
       "      <td>44.200000</td>\n",
       "    </tr>\n",
       "    <tr>\n",
       "      <th>max</th>\n",
       "      <td>19.100000</td>\n",
       "      <td>160.000000</td>\n",
       "      <td>2.900000</td>\n",
       "      <td>20.000000</td>\n",
       "      <td>21.000000</td>\n",
       "      <td>395.000000</td>\n",
       "      <td>29.248161</td>\n",
       "      <td>59.200000</td>\n",
       "    </tr>\n",
       "  </tbody>\n",
       "</table>\n",
       "</div>"
      ],
      "text/plain": [
       "              X1          X2         X3         X4         X5          X6  \\\n",
       "count  21.000000   21.000000  21.000000  21.000000  21.000000   21.000000   \n",
       "mean    9.823810   68.880952   1.885714  15.285714  10.190476  292.714286   \n",
       "std     5.948521   45.167894   0.708721   2.759400   6.439092   59.429069   \n",
       "min     0.100000    0.500000   1.000000  10.000000   1.000000  210.000000   \n",
       "25%     4.900000   24.600000   1.100000  14.000000   6.000000  245.000000   \n",
       "50%    10.000000   72.900000   2.000000  16.000000  10.000000  273.000000   \n",
       "75%    15.100000  100.000000   2.200000  17.000000  13.000000  340.000000   \n",
       "max    19.100000  160.000000   2.900000  20.000000  21.000000  395.000000   \n",
       "\n",
       "              X7          Y  \n",
       "count  21.000000  21.000000  \n",
       "mean   16.579006  33.428571  \n",
       "std     6.543232  15.141909  \n",
       "min     3.542486   7.710000  \n",
       "25%    11.515947  22.670000  \n",
       "50%    16.899891  36.420000  \n",
       "75%    21.971263  44.200000  \n",
       "max    29.248161  59.200000  "
      ]
     },
     "execution_count": 12,
     "metadata": {},
     "output_type": "execute_result"
    }
   ],
   "source": [
    "data.describe()"
   ]
  },
  {
   "cell_type": "markdown",
   "metadata": {},
   "source": [
    "Et voilà. We are done. All we are left to do is save the Datafram to a csv file."
   ]
  },
  {
   "cell_type": "code",
   "execution_count": 13,
   "metadata": {
    "collapsed": false
   },
   "outputs": [],
   "source": [
    "data.to_csv('Table2_Hunt_2013_edit_noNames.csv', index=False, float_format='%11.2f')"
   ]
  },
  {
   "cell_type": "markdown",
   "metadata": {},
   "source": [
    "We can also add the column names and save to a different csv file."
   ]
  },
  {
   "cell_type": "code",
   "execution_count": 14,
   "metadata": {
    "collapsed": false
   },
   "outputs": [
    {
     "data": {
      "text/html": [
       "<div>\n",
       "<table border=\"1\" class=\"dataframe\">\n",
       "  <thead>\n",
       "    <tr style=\"text-align: right;\">\n",
       "      <th></th>\n",
       "      <th>Gross pay</th>\n",
       "      <th>Phi-h</th>\n",
       "      <th>Position</th>\n",
       "      <th>Pressure</th>\n",
       "      <th>Random 1</th>\n",
       "      <th>Random 2</th>\n",
       "      <th>Gross pay transform</th>\n",
       "      <th>Production</th>\n",
       "    </tr>\n",
       "  </thead>\n",
       "  <tbody>\n",
       "    <tr>\n",
       "      <th>count</th>\n",
       "      <td>21.000000</td>\n",
       "      <td>21.000000</td>\n",
       "      <td>21.000000</td>\n",
       "      <td>21.000000</td>\n",
       "      <td>21.000000</td>\n",
       "      <td>21.000000</td>\n",
       "      <td>21.000000</td>\n",
       "      <td>21.000000</td>\n",
       "    </tr>\n",
       "    <tr>\n",
       "      <th>mean</th>\n",
       "      <td>9.823810</td>\n",
       "      <td>68.880952</td>\n",
       "      <td>1.885714</td>\n",
       "      <td>15.285714</td>\n",
       "      <td>10.190476</td>\n",
       "      <td>292.714286</td>\n",
       "      <td>16.579006</td>\n",
       "      <td>33.428571</td>\n",
       "    </tr>\n",
       "    <tr>\n",
       "      <th>std</th>\n",
       "      <td>5.948521</td>\n",
       "      <td>45.167894</td>\n",
       "      <td>0.708721</td>\n",
       "      <td>2.759400</td>\n",
       "      <td>6.439092</td>\n",
       "      <td>59.429069</td>\n",
       "      <td>6.543232</td>\n",
       "      <td>15.141909</td>\n",
       "    </tr>\n",
       "    <tr>\n",
       "      <th>min</th>\n",
       "      <td>0.100000</td>\n",
       "      <td>0.500000</td>\n",
       "      <td>1.000000</td>\n",
       "      <td>10.000000</td>\n",
       "      <td>1.000000</td>\n",
       "      <td>210.000000</td>\n",
       "      <td>3.542486</td>\n",
       "      <td>7.710000</td>\n",
       "    </tr>\n",
       "    <tr>\n",
       "      <th>25%</th>\n",
       "      <td>4.900000</td>\n",
       "      <td>24.600000</td>\n",
       "      <td>1.100000</td>\n",
       "      <td>14.000000</td>\n",
       "      <td>6.000000</td>\n",
       "      <td>245.000000</td>\n",
       "      <td>11.515947</td>\n",
       "      <td>22.670000</td>\n",
       "    </tr>\n",
       "    <tr>\n",
       "      <th>50%</th>\n",
       "      <td>10.000000</td>\n",
       "      <td>72.900000</td>\n",
       "      <td>2.000000</td>\n",
       "      <td>16.000000</td>\n",
       "      <td>10.000000</td>\n",
       "      <td>273.000000</td>\n",
       "      <td>16.899891</td>\n",
       "      <td>36.420000</td>\n",
       "    </tr>\n",
       "    <tr>\n",
       "      <th>75%</th>\n",
       "      <td>15.100000</td>\n",
       "      <td>100.000000</td>\n",
       "      <td>2.200000</td>\n",
       "      <td>17.000000</td>\n",
       "      <td>13.000000</td>\n",
       "      <td>340.000000</td>\n",
       "      <td>21.971263</td>\n",
       "      <td>44.200000</td>\n",
       "    </tr>\n",
       "    <tr>\n",
       "      <th>max</th>\n",
       "      <td>19.100000</td>\n",
       "      <td>160.000000</td>\n",
       "      <td>2.900000</td>\n",
       "      <td>20.000000</td>\n",
       "      <td>21.000000</td>\n",
       "      <td>395.000000</td>\n",
       "      <td>29.248161</td>\n",
       "      <td>59.200000</td>\n",
       "    </tr>\n",
       "  </tbody>\n",
       "</table>\n",
       "</div>"
      ],
      "text/plain": [
       "       Gross pay       Phi-h   Position   Pressure   Random 1    Random 2  \\\n",
       "count  21.000000   21.000000  21.000000  21.000000  21.000000   21.000000   \n",
       "mean    9.823810   68.880952   1.885714  15.285714  10.190476  292.714286   \n",
       "std     5.948521   45.167894   0.708721   2.759400   6.439092   59.429069   \n",
       "min     0.100000    0.500000   1.000000  10.000000   1.000000  210.000000   \n",
       "25%     4.900000   24.600000   1.100000  14.000000   6.000000  245.000000   \n",
       "50%    10.000000   72.900000   2.000000  16.000000  10.000000  273.000000   \n",
       "75%    15.100000  100.000000   2.200000  17.000000  13.000000  340.000000   \n",
       "max    19.100000  160.000000   2.900000  20.000000  21.000000  395.000000   \n",
       "\n",
       "       Gross pay transform  Production  \n",
       "count            21.000000   21.000000  \n",
       "mean             16.579006   33.428571  \n",
       "std               6.543232   15.141909  \n",
       "min               3.542486    7.710000  \n",
       "25%              11.515947   22.670000  \n",
       "50%              16.899891   36.420000  \n",
       "75%              21.971263   44.200000  \n",
       "max              29.248161   59.200000  "
      ]
     },
     "execution_count": 14,
     "metadata": {},
     "output_type": "execute_result"
    }
   ],
   "source": [
    "data = data.rename(columns={'X1': 'Gross pay', \n",
    "                        'X2': 'Phi-h',\n",
    "                        'X3': 'Position',\n",
    "                        'X4': 'Pressure',\n",
    "                        'X5': 'Random 1',\n",
    "                        'X6': 'Random 2',\n",
    "                        'X7': 'Gross pay transform',\n",
    "                         'Y': 'Production'})\n",
    "\n",
    "data.describe()"
   ]
  },
  {
   "cell_type": "code",
   "execution_count": 15,
   "metadata": {
    "collapsed": true
   },
   "outputs": [],
   "source": [
    "data.to_csv('Table2_Hunt_2013_edit.csv', index=False, float_format='%11.2f')"
   ]
  }
 ],
 "metadata": {
  "kernelspec": {
   "display_name": "Python 2",
   "language": "python",
   "name": "python2"
  },
  "language_info": {
   "codemirror_mode": {
    "name": "ipython",
    "version": 2
   },
   "file_extension": ".py",
   "mimetype": "text/x-python",
   "name": "python",
   "nbconvert_exporter": "python",
   "pygments_lexer": "ipython2",
   "version": "2.7.11"
  }
 },
 "nbformat": 4,
 "nbformat_minor": 0
}
