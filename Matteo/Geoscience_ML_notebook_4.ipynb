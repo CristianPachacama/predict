{
 "cells": [
  {
   "cell_type": "markdown",
   "metadata": {},
   "source": [
    "##### Preliminaries"
   ]
  },
  {
   "cell_type": "code",
   "execution_count": 1,
   "metadata": {
    "collapsed": true
   },
   "outputs": [],
   "source": [
    "import numpy as np\n",
    "import pandas as pd\n",
    "import matplotlib.pyplot as plt"
   ]
  },
  {
   "cell_type": "markdown",
   "metadata": {},
   "source": [
    "##### Problem statement"
   ]
  },
  {
   "cell_type": "markdown",
   "metadata": {},
   "source": [
    "This is a chart of observations from a Wilrich reservoir example **(mitigating drilling risk due to open fracture systems)**.\n",
    "\n",
    "From a case studies presented by Lee Hunt (at the time at Jupiter Resources) in [this CSEG talk](http://cseg.ca/technical/view/value-thinking-from-the-classical-to-the-hyper-modern)."
   ]
  },
  {
   "cell_type": "code",
   "execution_count": 2,
   "metadata": {},
   "outputs": [
    {
     "data": {
      "text/html": [
       "<div>\n",
       "<table border=\"1\" class=\"dataframe\">\n",
       "  <thead>\n",
       "    <tr style=\"text-align: right;\">\n",
       "      <th></th>\n",
       "      <th>Curvature</th>\n",
       "      <th>Diffraction_imaging</th>\n",
       "      <th>Coherence</th>\n",
       "      <th>AVAz</th>\n",
       "      <th>VVAZ</th>\n",
       "      <th>Problem</th>\n",
       "    </tr>\n",
       "    <tr>\n",
       "      <th>Well</th>\n",
       "      <th></th>\n",
       "      <th></th>\n",
       "      <th></th>\n",
       "      <th></th>\n",
       "      <th></th>\n",
       "      <th></th>\n",
       "    </tr>\n",
       "  </thead>\n",
       "  <tbody>\n",
       "    <tr>\n",
       "      <th>A</th>\n",
       "      <td>True</td>\n",
       "      <td>True</td>\n",
       "      <td>False</td>\n",
       "      <td>True</td>\n",
       "      <td>True</td>\n",
       "      <td>True</td>\n",
       "    </tr>\n",
       "    <tr>\n",
       "      <th>B</th>\n",
       "      <td>True</td>\n",
       "      <td>True</td>\n",
       "      <td>True</td>\n",
       "      <td>False</td>\n",
       "      <td>True</td>\n",
       "      <td>True</td>\n",
       "    </tr>\n",
       "    <tr>\n",
       "      <th>C</th>\n",
       "      <td>False</td>\n",
       "      <td>False</td>\n",
       "      <td>True</td>\n",
       "      <td>True</td>\n",
       "      <td>False</td>\n",
       "      <td>False</td>\n",
       "    </tr>\n",
       "    <tr>\n",
       "      <th>D</th>\n",
       "      <td>False</td>\n",
       "      <td>True</td>\n",
       "      <td>False</td>\n",
       "      <td>False</td>\n",
       "      <td>True</td>\n",
       "      <td>False</td>\n",
       "    </tr>\n",
       "    <tr>\n",
       "      <th>E</th>\n",
       "      <td>True</td>\n",
       "      <td>False</td>\n",
       "      <td>False</td>\n",
       "      <td>True</td>\n",
       "      <td>True</td>\n",
       "      <td>False</td>\n",
       "    </tr>\n",
       "    <tr>\n",
       "      <th>F</th>\n",
       "      <td>True</td>\n",
       "      <td>True</td>\n",
       "      <td>False</td>\n",
       "      <td>False</td>\n",
       "      <td>False</td>\n",
       "      <td>True</td>\n",
       "    </tr>\n",
       "    <tr>\n",
       "      <th>G</th>\n",
       "      <td>True</td>\n",
       "      <td>True</td>\n",
       "      <td>True</td>\n",
       "      <td>True</td>\n",
       "      <td>True</td>\n",
       "      <td>True</td>\n",
       "    </tr>\n",
       "  </tbody>\n",
       "</table>\n",
       "</div>"
      ],
      "text/plain": [
       "     Curvature Diffraction_imaging Coherence   AVAz   VVAZ Problem\n",
       "Well                                                              \n",
       "A         True                True     False   True   True    True\n",
       "B         True                True      True  False   True    True\n",
       "C        False               False      True   True  False   False\n",
       "D        False                True     False  False   True   False\n",
       "E         True               False     False   True   True   False\n",
       "F         True                True     False  False  False    True\n",
       "G         True                True      True   True   True    True"
      ]
     },
     "execution_count": 2,
     "metadata": {},
     "output_type": "execute_result"
    }
   ],
   "source": [
    "data = pd.read_csv('predict_drilling_problem.csv', index_col=0)\n",
    "data"
   ]
  },
  {
   "cell_type": "markdown",
   "metadata": {},
   "source": [
    "The background is that there was a known history of drilling and losing some wells in this area due to mud loss when encountering large systems of open fractures. Jupyter had done extensive geophysical work, using multiple attributes typically correlating with fractures, but had no calibration data (i.e. fracture density form image logs), and some of the attributtes yield poor or conflicting results."
   ]
  },
  {
   "cell_type": "markdown",
   "metadata": {},
   "source": [
    "##### Solution 1 - Mill's Methods of Induction"
   ]
  },
  {
   "cell_type": "markdown",
   "metadata": {},
   "source": [
    "Jupyter decided to try **Mill's Methods of Induction**, as examplified in Lee Hunt's talk, to see which attribute (or set of) could predict the drilling problems in the absence of validation.\n",
    "\n",
    "Mill's methods are described in Chapter VIII (page 450) of [his book](https://books.google.ca/books?id=y4MEAAAAQAAJ).\n",
    "\n",
    "\n",
    "The desired outcome of this attempt was the identification of the 'problem' pattern, which could then be applied to future wells. Then \"upcoming well locations that had the same 'symptoms' (Mill's method is often illustraded with a [food poisoning example](http://philosophy.hku.hk/think/sci/mill.php)) could be identified ahead of time, and so one could chose to pick a different location, or move ahead but with the drilling department warned and ready....."
   ]
  },
  {
   "cell_type": "markdown",
   "metadata": {},
   "source": [
    "We can look at the table above as binary labels:"
   ]
  },
  {
   "cell_type": "code",
   "execution_count": 3,
   "metadata": {},
   "outputs": [
    {
     "data": {
      "text/html": [
       "<div>\n",
       "<table border=\"1\" class=\"dataframe\">\n",
       "  <thead>\n",
       "    <tr style=\"text-align: right;\">\n",
       "      <th></th>\n",
       "      <th>Curvature</th>\n",
       "      <th>Diffraction_imaging</th>\n",
       "      <th>Coherence</th>\n",
       "      <th>AVAz</th>\n",
       "      <th>VVAZ</th>\n",
       "      <th>Problem</th>\n",
       "    </tr>\n",
       "    <tr>\n",
       "      <th>Well</th>\n",
       "      <th></th>\n",
       "      <th></th>\n",
       "      <th></th>\n",
       "      <th></th>\n",
       "      <th></th>\n",
       "      <th></th>\n",
       "    </tr>\n",
       "  </thead>\n",
       "  <tbody>\n",
       "    <tr>\n",
       "      <th>A</th>\n",
       "      <td>1</td>\n",
       "      <td>1</td>\n",
       "      <td>0</td>\n",
       "      <td>1</td>\n",
       "      <td>1</td>\n",
       "      <td>1</td>\n",
       "    </tr>\n",
       "    <tr>\n",
       "      <th>B</th>\n",
       "      <td>1</td>\n",
       "      <td>1</td>\n",
       "      <td>1</td>\n",
       "      <td>0</td>\n",
       "      <td>1</td>\n",
       "      <td>1</td>\n",
       "    </tr>\n",
       "    <tr>\n",
       "      <th>C</th>\n",
       "      <td>0</td>\n",
       "      <td>0</td>\n",
       "      <td>1</td>\n",
       "      <td>1</td>\n",
       "      <td>0</td>\n",
       "      <td>0</td>\n",
       "    </tr>\n",
       "    <tr>\n",
       "      <th>D</th>\n",
       "      <td>0</td>\n",
       "      <td>1</td>\n",
       "      <td>0</td>\n",
       "      <td>0</td>\n",
       "      <td>1</td>\n",
       "      <td>0</td>\n",
       "    </tr>\n",
       "    <tr>\n",
       "      <th>E</th>\n",
       "      <td>1</td>\n",
       "      <td>0</td>\n",
       "      <td>0</td>\n",
       "      <td>1</td>\n",
       "      <td>1</td>\n",
       "      <td>0</td>\n",
       "    </tr>\n",
       "    <tr>\n",
       "      <th>F</th>\n",
       "      <td>1</td>\n",
       "      <td>1</td>\n",
       "      <td>0</td>\n",
       "      <td>0</td>\n",
       "      <td>0</td>\n",
       "      <td>1</td>\n",
       "    </tr>\n",
       "    <tr>\n",
       "      <th>G</th>\n",
       "      <td>1</td>\n",
       "      <td>1</td>\n",
       "      <td>1</td>\n",
       "      <td>1</td>\n",
       "      <td>1</td>\n",
       "      <td>1</td>\n",
       "    </tr>\n",
       "  </tbody>\n",
       "</table>\n",
       "</div>"
      ],
      "text/plain": [
       "      Curvature  Diffraction_imaging  Coherence  AVAz  VVAZ  Problem\n",
       "Well                                                                \n",
       "A             1                    1          0     1     1        1\n",
       "B             1                    1          1     0     1        1\n",
       "C             0                    0          1     1     0        0\n",
       "D             0                    1          0     0     1        0\n",
       "E             1                    0          0     1     1        0\n",
       "F             1                    1          0     0     0        1\n",
       "G             1                    1          1     1     1        1"
      ]
     },
     "execution_count": 3,
     "metadata": {},
     "output_type": "execute_result"
    }
   ],
   "source": [
    "data.astype(int)"
   ]
  },
  {
   "cell_type": "markdown",
   "metadata": {},
   "source": [
    "The \"problem wells\" column is compiled by the geologist in collaboration with the drilling department (to identify with certainty the wells that had the problem); the observation columns are compiled by the geophysicist."
   ]
  },
  {
   "cell_type": "markdown",
   "metadata": {},
   "source": [
    "Jupyter's results from applying Mill's method are not shown in the webcast. \n",
    "\n",
    "I was tempted to try it myself, and made some initial considerations:\n",
    "\n",
    "- in 4/4 cases when the problem occurrs both curvature and diffraction imaging are observed\n",
    "- each of curvature and diffraction imaging are observed with the absence of problem in 2/3 cases\n",
    "- coherence is observed in 2/4 cases when the problem occurs and not observed in 2/3 cases when it does not\n",
    "- AVAz is observed in 2/4 cases when the problem occurs and not observed in 1/3 cases when it does not\n",
    "- VVAz also is observed in 2/4 cases when the problem occurs and not observed in 1/3 cases when it does not\n",
    "\n",
    "\n",
    "But the more I looked at this table the more I was becoming curious to see if a neural network might figure out the pattern and perhaps tell me which observations / attributes were the key ones. I think it worked. "
   ]
  },
  {
   "cell_type": "markdown",
   "metadata": {},
   "source": [
    "##### Solution 2 - simple numpy 2-layer neural network"
   ]
  },
  {
   "cell_type": "markdown",
   "metadata": {},
   "source": [
    "Here's how I went about it. The neural network is adapted from [A Neural Network in 11 lines of Python (Part 1): 2-layer network](http://iamtrask.github.io/2015/07/12/basic-python-network). Also, for a great intuition about backpropagation, with pure numpy code, check [this section](http://cs231n.github.io/optimization-2) of the course [CS231n Convolutional Neural Networks for Visual Recognition](http://cs231n.github.io)."
   ]
  },
  {
   "cell_type": "markdown",
   "metadata": {},
   "source": [
    "First I created separate arrays for features (observations) and labels (the problem column):"
   ]
  },
  {
   "cell_type": "code",
   "execution_count": 4,
   "metadata": {},
   "outputs": [
    {
     "name": "stdout",
     "output_type": "stream",
     "text": [
      "[[1 1 0 1 1]\n",
      " [1 1 1 0 1]\n",
      " [0 0 1 1 0]\n",
      " [0 1 0 0 1]\n",
      " [1 0 0 1 1]\n",
      " [1 1 0 0 0]\n",
      " [1 1 1 1 1]]\n",
      "[[1]\n",
      " [1]\n",
      " [0]\n",
      " [0]\n",
      " [0]\n",
      " [1]\n",
      " [1]]\n"
     ]
    }
   ],
   "source": [
    "X = np.array(data.astype(int).as_matrix())[:,:-1]\n",
    "y = np.array(data.astype(int).as_matrix())[:,-1].reshape(7,1)\n",
    "print X\n",
    "print y"
   ]
  },
  {
   "cell_type": "markdown",
   "metadata": {},
   "source": [
    "Then I defined a logistic activation function for forward and back-propagation:"
   ]
  },
  {
   "cell_type": "code",
   "execution_count": 5,
   "metadata": {
    "collapsed": true
   },
   "outputs": [],
   "source": [
    "def nonlin(x,deriv=False):\n",
    "    if(deriv==True):\n",
    "        return x*(1-x)\n",
    "    return 1/(1+np.exp(-x))"
   ]
  },
  {
   "cell_type": "markdown",
   "metadata": {},
   "source": [
    "A quick visual of the logistic activation function:"
   ]
  },
  {
   "cell_type": "code",
   "execution_count": 6,
   "metadata": {},
   "outputs": [
    {
     "data": {
      "image/png": "[encoded data removed]",
      "text/plain": [
       "<matplotlib.figure.Figure at 0x104477910>"
      ]
     },
     "metadata": {},
     "output_type": "display_data"
    }
   ],
   "source": [
    "fig = plt.figure(figsize= (10, 6))\n",
    "ax0 = fig.add_subplot(111)\n",
    "\n",
    "test_x = np.linspace(-5, 5, 25)\n",
    "\n",
    "ax0.plot(test_x, nonlin(test_x)) # logistic function\n",
    "ax0.plot(test_x, (nonlin(test_x,True)-nonlin(test_x,True).min())\n",
    "         /(nonlin(test_x,True).max()-nonlin(test_x,True).min()), 'r-') # derivative\n",
    "                                                                       # normalized to display on same plot\n",
    "plt.grid(True)\n",
    "plt.show()"
   ]
  },
  {
   "cell_type": "markdown",
   "metadata": {},
   "source": [
    "And here's a simple numpy 2-layer network in action, with some very simple visualizations:"
   ]
  },
  {
   "cell_type": "code",
   "execution_count": 7,
   "metadata": {
    "scrolled": false
   },
   "outputs": [
    {
     "name": "stdout",
     "output_type": "stream",
     "text": [
      "Error:0.521171557881\n",
      "Error:0.0260366511967\n",
      "Error:0.0180108167259\n",
      "Error:0.0145613498148\n",
      "Error:0.0125362126251\n",
      "Error:0.0111675364476\n",
      "Error:0.0101641526307\n",
      "Error:0.00938837994117\n",
      "Error:0.00876562499071\n",
      "Error:0.00825152666506\n",
      "Error:0.00781784272301\n",
      "Error:0.00744563091013\n",
      "Error:0.00712165200176\n",
      "Error:0.00683633816816\n",
      "Error:0.0065825807639\n",
      "Error:0.00635497370738\n",
      "Error:0.00614932307667\n",
      "Error:0.00596231890334\n",
      "Error:0.00579130937575\n",
      "Error:0.00563414172385\n"
     ]
    },
    {
     "data": {
      "image/png": "[encoded data removed]",
      "text/plain": [
       "<matplotlib.figure.Figure at 0x1044940d0>"
      ]
     },
     "metadata": {},
     "output_type": "display_data"
    }
   ],
   "source": [
    "# seed random numbers to make calculation\n",
    "# deterministic\n",
    "np.random.seed(1)\n",
    "\n",
    "fig = plt.figure(figsize= (16, 10))\n",
    "ax0 = fig.add_subplot(311)\n",
    "ax1 = fig.add_subplot(312)\n",
    "ax2 = fig.add_subplot(313)\n",
    "\n",
    "# initialize weights randomly with mean 0\n",
    "syn0 = 2*np.random.random((5,1)) - 1\n",
    "\n",
    "for j in xrange(40000):\n",
    "\n",
    "    # forward propagation\n",
    "    l0 = X\n",
    "    l1 = nonlin(np.dot(l0,syn0))\n",
    "\n",
    "    # how much did we miss?\n",
    "    l1_error = y - l1\n",
    "        \n",
    "    # print error\n",
    "    if (j% 2000) == 0: \n",
    "        print \"Error:\" + str(np.mean(np.abs(l1_error)))\n",
    "\n",
    "    # plot error\n",
    "    if (j) == 0:\n",
    "        ax0.scatter(np.arange(1,8), l1, s = 40, c = 'm', alpha = 0.6, label = '1st iteration');\n",
    "        ax0.scatter(np.arange(1,8), y, s = 100, c = 'g', alpha = 0.8, label = 'target');\n",
    "        ax0.set_xticks(np.arange(1,8))\n",
    "        ax0.set_xticklabels(['A', 'B', 'C', 'D', 'E', 'F', 'G'])\n",
    "        ax0.set_yticks([0, 1])\n",
    "        ax0.set_yticklabels(['N', 'Y'])\n",
    "        ax0.set_xlabel('Well')\n",
    "        ax0.set_ylabel('Problem well')\n",
    "        ax0.legend()\n",
    "        \n",
    "    if (j% 20) == 0: \n",
    "        ax1.plot(np.arange(1,8), l1_error);\n",
    "        ax1.set_xticks(np.arange(1,8))\n",
    "        ax1.set_xticklabels(['A', 'B', 'C', 'D', 'E', 'F', 'G'])\n",
    "        ax1.set_xlabel('Well')\n",
    "        ax1.set_ylabel('Error')\n",
    "        ax2.scatter(j, np.mean(np.abs(l1_error)), s = 8, c = 'k', alpha = 0.6);\n",
    "        ax2.set_xlabel('Iterations')\n",
    "        ax2.set_ylabel('Average error')\n",
    "    \n",
    "    # multiply how much we missed by the \n",
    "    # slope of the sigmoid at the values in l1\n",
    "    l1_delta = l1_error * nonlin(l1,True)\n",
    "\n",
    "    # update weights\n",
    "    syn0 += np.dot(l0.T,l1_delta)\n",
    "    \n",
    "plt.show()"
   ]
  },
  {
   "cell_type": "markdown",
   "metadata": {},
   "source": [
    "The array with the he predicted labels is below:"
   ]
  },
  {
   "cell_type": "code",
   "execution_count": 8,
   "metadata": {},
   "outputs": [
    {
     "name": "stdout",
     "output_type": "stream",
     "text": [
      "Output After Training:\n",
      "[[ 0.99]\n",
      " [ 1.  ]\n",
      " [ 0.01]\n",
      " [ 0.01]\n",
      " [ 0.01]\n",
      " [ 1.  ]\n",
      " [ 0.99]]\n"
     ]
    }
   ],
   "source": [
    "np.set_printoptions(precision=2)\n",
    "\n",
    "print \"Output After Training:\"\n",
    "print l1"
   ]
  },
  {
   "cell_type": "markdown",
   "metadata": {},
   "source": [
    "The network did well. But the insight comes next, by looking at the final updated weights:"
   ]
  },
  {
   "cell_type": "code",
   "execution_count": 9,
   "metadata": {},
   "outputs": [
    {
     "name": "stdout",
     "output_type": "stream",
     "text": [
      "Curvature              14.587\n",
      "Diffraction_imaging     9.741\n",
      "Coherence               0.006\n",
      "AVAz                   -4.937\n",
      "VVAZ                  -14.465\n"
     ]
    }
   ],
   "source": [
    "syn = [item for sublist in syn0 for item in sublist]\n",
    "s = pd.Series(syn, index = list(data)[:-1])\n",
    "\n",
    "pd.options.display.float_format = '{:,.3f}'.format\n",
    "print s.to_string()"
   ]
  },
  {
   "cell_type": "markdown",
   "metadata": {},
   "source": [
    "The curvature and diffraction imaging were the key predictors; and while the coherence does not seem as relevant, the AVO anisotropy attributes are assigned negative weights (they are inhibited).\n",
    "\n",
    "This needs a bit of chewing on. \n",
    "\n",
    "The way I was explained once how negative weights occur is with this Convolutional Neural Network example.\n",
    "The network is given a set of pictures to classify. We want it to learn to identify ducks from:\n",
    "\n",
    "A ==> pictures of birds\n",
    "\n",
    "B ==> pictures of ducks\n",
    "\n",
    "C ==> pictures of people, some with duck suits\n",
    "\n",
    "with a training set:\n",
    "\n",
    "T ==> pictures of ducks\n",
    "\n",
    "In the end, the weights will be assigned as:\n",
    "\n",
    "A +\n",
    "\n",
    "B +++ (B >> A)\n",
    "\n",
    "C -\n",
    "\n",
    "This will inhibit the use of humans in duck suits.\n"
   ]
  },
  {
   "cell_type": "markdown",
   "metadata": {},
   "source": [
    "So, back to the drilling problems, it appears that the AVO attributes are not predictive, and in fact gets assigned negative values. I mentioned to Lee Hunt  this neural network result, and he confirmed (personal communication) that the AVO attributes VVAz and AVAz were in fact problematic because the Wilrich amplitude was dominated by the effect of an overlying coal, and pointed me to some published work:\n",
    "\n",
    "Precise 3D seismic steering and production rates in the Wilrich tight gas sands of West Central Alberta, Hunt et al., SEG, Interpretation May 2014\n",
    "\n",
    "This is the equivalent of Mill's Method of residue: coal is known to be the cause of both the AVAz and VVAz observations, so they are not relevant to the dirlling problem.\n"
   ]
  },
  {
   "cell_type": "markdown",
   "metadata": {
    "collapsed": true
   },
   "source": [
    "##### Discussion and ideas for future work"
   ]
  },
  {
   "cell_type": "markdown",
   "metadata": {},
   "source": [
    "I think this short experiment demonstrated that a simple network could be used to cull the seismic fracture attributes.\n",
    "\n",
    "However, if we wanted to train a model and use it use predicatively it would not be without challenges.\n",
    "\n",
    "This is a very small dataset, so if we wanted to train a model with crossvalidation (to avoid overfitting) we woud need more observations (more wells), or augment the dataset with an appropriate oversampling or shuffling strategy.\n",
    "\n",
    "Having solve that problem I could:\n",
    "- [use nested stratified-k fold to comparing models](http://nbviewer.jupyter.org/github/rasbt/python-machine-learning-book/blob/master/code/ch06/ch06.ipynb#Algorithm-selection-with-nested-cross-validation)\n",
    "\n",
    "- [save best model to predict future wells](http://nbviewer.jupyter.org/github/rasbt/python-machine-learning-book/blob/master/code/bonus/scikit-model-to-json.ipynb)\n",
    "\n",
    "But does it even make sense?\n"
   ]
  },
  {
   "cell_type": "code",
   "execution_count": null,
   "metadata": {
    "collapsed": true
   },
   "outputs": [],
   "source": []
  }
 ],
 "metadata": {
  "anaconda-cloud": {},
  "kernelspec": {
   "display_name": "Python [default]",
   "language": "python",
   "name": "python2"
  },
  "language_info": {
   "codemirror_mode": {
    "name": "ipython",
    "version": 2
   },
   "file_extension": ".py",
   "mimetype": "text/x-python",
   "name": "python",
   "nbconvert_exporter": "python",
   "pygments_lexer": "ipython2",
   "version": "2.7.13"
  }
 },
 "nbformat": 4,
 "nbformat_minor": 1
}
